{
  "nbformat": 4,
  "nbformat_minor": 0,
  "metadata": {
    "colab": {
      "provenance": []
    },
    "kernelspec": {
      "name": "python3",
      "display_name": "Python 3"
    },
    "language_info": {
      "name": "python"
    }
  },
  "cells": [
    {
      "cell_type": "markdown",
      "source": [
        "Following [this](https://https://huggingface.co/blog/autoformer) tutorial"
      ],
      "metadata": {
        "id": "ySV02OPicAVd"
      }
    },
    {
      "cell_type": "code",
      "source": [
        "import torch\n",
        "import torch.nn as nn\n",
        "import torch.nn.functional as F\n",
        "\n",
        "class DecompositionLayer(nn.Module):\n",
        "    def __init__(self, kernel_size):\n",
        "        super().__init__()\n",
        "        self.avg_pool = nn.AvgPool1d(kernel_size, stride=1, padding=kernel_size//2, count_include_pad=False)\n",
        "\n",
        "    def forward(self, x):\n",
        "        trend = self.avg_pool(x)\n",
        "        seasonal = x - trend\n",
        "        return trend, seasonal\n",
        "\n",
        "class AutocorrelationAttention(nn.Module):\n",
        "    def __init__(self, embed_size):\n",
        "        super().__init__()\n",
        "        self.fc = nn.Linear(embed_size, embed_size)\n",
        "\n",
        "    def forward(self, x):\n",
        "\n",
        "        fft_x = torch.fft.rfft(x, dim=-1)\n",
        "        autocorr = torch.fft.irfft(fft_x * torch.conj(fft_x), dim=-1, n=x.shape[-1])\n",
        "        return self.fc(autocorr)\n",
        "\n",
        "class Autoformer(nn.Module):\n",
        "    def __init__(self, sequence_length, embed_size):\n",
        "        super().__init__()\n",
        "        self.decomposition = DecompositionLayer(kernel_size=24*2)\n",
        "        self.attention = AutocorrelationAttention(embed_size=embed_size)\n",
        "        self.fc = nn.Linear(sequence_length * embed_size, 1)\n",
        "\n",
        "    def forward(self, x):\n",
        "\n",
        "        trend, seasonal = self.decomposition(x.transpose(1, 2))\n",
        "        trend, seasonal = trend.transpose(1, 2), seasonal.transpose(1, 2)\n",
        "\n",
        "\n",
        "        seasonal_attended = self.attention(seasonal)\n",
        "\n",
        "\n",
        "        combined = torch.cat([trend, seasonal_attended], dim=-1)\n",
        "\n",
        "\n",
        "        out = self.fc(combined.flatten(start_dim=1))\n",
        "        return out\n",
        "\n",
        "\n",
        "sequence_length = 2880\n",
        "embed_size = 128\n",
        "model = Autoformer(sequence_length=sequence_length, embed_size=embed_size)\n",
        "\n",
        "print(model)\n"
      ],
      "metadata": {
        "id": "Z6cwPv3VcKlR"
      },
      "execution_count": null,
      "outputs": []
    }
  ]
}